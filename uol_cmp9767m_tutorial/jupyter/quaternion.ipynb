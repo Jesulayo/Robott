{
 "cells": [
  {
   "cell_type": "code",
   "execution_count": 8,
   "id": "30f094e5-6412-4bc2-b7fb-253b3de83c97",
   "metadata": {},
   "outputs": [],
   "source": [
    "from math import cos, sin, atan2, pi\n",
    "\n",
    "angle = 60 * pi / 180\n",
    "\n",
    "q = {\n",
    "    'x': 0.0,\n",
    "    'y': 0.0,\n",
    "    'z': sin(angle/2),\n",
    "    'w': cos(angle/2)\n",
    "}\n",
    "    "
   ]
  },
  {
   "cell_type": "code",
   "execution_count": 9,
   "id": "ad5cbea5-510c-48e3-9e1c-d9d3fb527188",
   "metadata": {},
   "outputs": [
    {
     "name": "stdout",
     "output_type": "stream",
     "text": [
      "quaternion: {'x': 0.0, 'y': 0.0, 'z': 0.49999999999999994, 'w': 0.8660254037844387}\n"
     ]
    }
   ],
   "source": [
    "print('quaternion: %s' % q)"
   ]
  },
  {
   "cell_type": "code",
   "execution_count": 10,
   "id": "e4640284-db42-4dd2-848c-b7102cd8faf2",
   "metadata": {},
   "outputs": [
    {
     "name": "stdout",
     "output_type": "stream",
     "text": [
      "yaw angle extracted is 59.99999999999999\n"
     ]
    }
   ],
   "source": [
    "recompute_angle = atan2(q['z'], q['w']) * 2\n",
    "print('yaw angle extracted is %s' % (recompute_angle * 180 / pi))"
   ]
  },
  {
   "cell_type": "code",
   "execution_count": 14,
   "id": "ce725852-5401-4b3f-a186-e64426e3acb9",
   "metadata": {},
   "outputs": [],
   "source": [
    "from scipy.spatial.transform import Rotation as R\n",
    "import numpy as np"
   ]
  },
  {
   "cell_type": "code",
   "execution_count": 28,
   "id": "414bb22b-cbce-4ce5-bf35-cb0cec42c979",
   "metadata": {},
   "outputs": [],
   "source": [
    "r = R.from_quat([0, 0, np.sin(angle/2), np.cos(angle/2)])"
   ]
  },
  {
   "cell_type": "code",
   "execution_count": 29,
   "id": "f4290201-6080-406b-81b6-f5a3ff715150",
   "metadata": {},
   "outputs": [
    {
     "data": {
      "text/plain": [
       "array([[ 0.5      , -0.8660254,  0.       ],\n",
       "       [ 0.8660254,  0.5      ,  0.       ],\n",
       "       [ 0.       ,  0.       ,  1.       ]])"
      ]
     },
     "execution_count": 29,
     "metadata": {},
     "output_type": "execute_result"
    }
   ],
   "source": [
    "r.as_matrix()"
   ]
  },
  {
   "cell_type": "code",
   "execution_count": 30,
   "id": "23b0b2cb-6213-44da-951b-b716425e7877",
   "metadata": {},
   "outputs": [
    {
     "data": {
      "text/plain": [
       "array([0.       , 0.       , 0.5      , 0.8660254])"
      ]
     },
     "execution_count": 30,
     "metadata": {},
     "output_type": "execute_result"
    }
   ],
   "source": [
    "r.as_quat()"
   ]
  },
  {
   "cell_type": "code",
   "execution_count": 31,
   "id": "1dfaa71b-fd58-44d9-a148-35a310f4e10b",
   "metadata": {},
   "outputs": [
    {
     "data": {
      "text/plain": [
       "array([ 0.,  0., 60.])"
      ]
     },
     "execution_count": 31,
     "metadata": {},
     "output_type": "execute_result"
    }
   ],
   "source": [
    "r.as_euler('XYZ', True)"
   ]
  },
  {
   "cell_type": "code",
   "execution_count": null,
   "id": "c5c36e15-c4f2-4c34-bb04-288ac24604e1",
   "metadata": {},
   "outputs": [],
   "source": []
  }
 ],
 "metadata": {
  "kernelspec": {
   "display_name": "Python 3 (ipykernel)",
   "language": "python",
   "name": "python3"
  },
  "language_info": {
   "codemirror_mode": {
    "name": "ipython",
    "version": 3
   },
   "file_extension": ".py",
   "mimetype": "text/x-python",
   "name": "python",
   "nbconvert_exporter": "python",
   "pygments_lexer": "ipython3",
   "version": "3.9.13"
  }
 },
 "nbformat": 4,
 "nbformat_minor": 5
}
